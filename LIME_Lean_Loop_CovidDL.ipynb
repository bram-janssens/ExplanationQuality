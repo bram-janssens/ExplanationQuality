{
  "cells": [
    {
      "cell_type": "code",
      "execution_count": null,
      "metadata": {
        "colab": {
          "base_uri": "https://localhost:8080/"
        },
        "id": "DW3w9tCvDf_D",
        "outputId": "71aa688d-15dd-4f01-cb5b-6c9fc1b09edb"
      },
      "outputs": [
        {
          "output_type": "stream",
          "name": "stdout",
          "text": [
            "Mounted at /content/drive/\n"
          ]
        }
      ],
      "source": [
        "from google.colab import drive\n",
        "drive.mount('/content/drive/')"
      ]
    },
    {
      "cell_type": "code",
      "execution_count": null,
      "metadata": {
        "id": "h1HvAXmHDdHe"
      },
      "outputs": [],
      "source": [
        "gebruikte_dataset = 'covid'\n",
        "\n",
        "import pandas as pd\n",
        "import numpy as np\n",
        "import os\n",
        "import pickle\n",
        "import sklearn\n",
        "import itertools\n",
        "import functools\n",
        "import operator\n",
        "import collections\n",
        "from sklearn.metrics.pairwise import pairwise_kernels\n",
        "\n",
        "os.chdir('/content/drive/My Drive/Rumour Identification COVID-19/Modellen')"
      ]
    },
    {
      "cell_type": "code",
      "execution_count": null,
      "metadata": {
        "id": "FRJcrQUnDdHr"
      },
      "outputs": [],
      "source": [
        "from sklearn.linear_model import Ridge\n",
        "from sklearn.preprocessing import StandardScaler\n",
        "\n",
        "def explain_instance_with_data(neighborhood_data,\n",
        "                               labels_column,\n",
        "                               weights,\n",
        "                               used_feat):\n",
        "    \n",
        "    easy_model = Ridge(alpha=1, fit_intercept=True)\n",
        "    scaler = StandardScaler()\n",
        "    selected_data = neighborhood_data[neighborhood_data.columns.intersection(used_feat)]\n",
        "    selected_data = scaler.fit_transform(selected_data)\n",
        "    easy_model.fit(selected_data, labels_column, sample_weight=weights)\n",
        "    prediction_score = easy_model.score(selected_data, labels_column, sample_weight=weights)\n",
        "    \n",
        "    return (sorted(zip(used_feat, easy_model.coef_[0]),\n",
        "                   key=lambda x: np.abs(x[1]), reverse=True),\n",
        "            prediction_score)\n",
        "\n",
        "def feat_selection(data, labels, weights, num_features):\n",
        "    clf = Ridge(alpha=0.01, fit_intercept=True)\n",
        "    scaler = StandardScaler()\n",
        "    df = scaler.fit_transform(data)\n",
        "    clf.fit(df, labels, sample_weight=weights)\n",
        "    coef = abs(clf.coef_)\n",
        "    used_features = data.columns[coef.argsort()][0][0:num_features]\n",
        "    return(used_features)"
      ]
    },
    {
      "cell_type": "code",
      "execution_count": null,
      "metadata": {
        "colab": {
          "base_uri": "https://localhost:8080/"
        },
        "id": "7Cl2tMAzS3r5",
        "outputId": "690c5113-2828-481b-f834-69e6223e949e"
      },
      "outputs": [
        {
          "output_type": "execute_result",
          "data": {
            "text/plain": [
              "['covid_train3',\n",
              " 'covid_train5',\n",
              " 'covid_train10',\n",
              " 'covid_train4',\n",
              " 'covid_train6',\n",
              " 'covid_train1',\n",
              " 'covid_train2',\n",
              " 'covid_train7',\n",
              " 'covid_train9',\n",
              " 'covid_train8']"
            ]
          },
          "metadata": {},
          "execution_count": 4
        }
      ],
      "source": [
        "files = os.listdir()\n",
        "files = [each_string.lower() for each_string in files]\n",
        "files = [el for el in files if gebruikte_dataset in el]\n",
        "files = [el for el in files if 'train' in el]\n",
        "files"
      ]
    },
    {
      "cell_type": "code",
      "execution_count": null,
      "metadata": {
        "id": "4oUSdlmdDdHz"
      },
      "outputs": [],
      "source": [
        "appended_data = []\n",
        "for infile in files:\n",
        "    data = pd.read_csv(infile)\n",
        "    appended_data.append(data.reset_index(drop=True))\n",
        "# see pd.concat documentation for more info\n",
        "appended_data = pd.concat(appended_data)\n",
        "appended_data = appended_data.drop_duplicates(subset='Unnamed: 0')\n",
        "appended_data = appended_data.reset_index(drop=True)\n",
        "appended_data['cleaned_text'] = np.where(appended_data['Unnamed: 0']==1629, 'empty text with url', appended_data['cleaned_text'])"
      ]
    },
    {
      "cell_type": "code",
      "execution_count": null,
      "metadata": {
        "id": "qR6RKjBqDdH1"
      },
      "outputs": [],
      "source": [
        "permutations = os.listdir()\n",
        "permutations = [each_string.lower() for each_string in permutations]\n",
        "permutations = [el for el in permutations if gebruikte_dataset in el]\n",
        "permutations = [el for el in permutations if 'permuted' in el][0]\n",
        "\n",
        "with open(permutations,'rb') as f:\n",
        "            save_dict = pickle.load(f)"
      ]
    },
    {
      "cell_type": "code",
      "execution_count": null,
      "metadata": {
        "id": "SvAEcjizDdJG"
      },
      "outputs": [],
      "source": [
        "import keras\n",
        "final_stability_metrics = []\n",
        "\n",
        "import warnings\n",
        "warnings.filterwarnings(\"ignore\")\n",
        "\n",
        "for model_type in ['HybridCNN', 'HybridLSTM', 'HybridGRU']:\n",
        "    for stap in range(10):        \n",
        "        models = os.listdir()\n",
        "        uitkomsten = []\n",
        "        if 'Hybrid' in model_type:\n",
        "            models = [el for el in models if gebruikte_dataset in el]\n",
        "            models = [el for el in models if model_type in el]\n",
        "            if stap==0:\n",
        "              model_str = [el for el in models if str(stap+1) in el]\n",
        "              fold = [el for el in files if str(stap+1) in el]\n",
        "              model_str = [el for el in model_str if '10' not in el][0]\n",
        "              fold = [el for el in fold if '10' not in el][0]\n",
        "            else:  \n",
        "              model_str = [el for el in models if str(stap+1) in el][0]\n",
        "              fold = [el for el in files if str(stap+1) in el][0]\n",
        "            print(model_type)\n",
        "            print(stap)\n",
        "     \n",
        "            train = pd.read_csv(fold)\n",
        "            model = keras.models.load_model(model_str)\n",
        "            train['cleaned_text'] = np.where(train['Unnamed: 0']==1629, 'empty text with url', train['cleaned_text'])\n",
        "            for i in range(train.shape[0]): #### AANPASSEN AAN LENGTE FOLD!\n",
        "                true_obs = train.iloc[i,:]\n",
        "                key = true_obs['Unnamed: 0']\n",
        "                if key!=1629:\n",
        "                  permutations_obs = save_dict[key]\n",
        "                  tussen = permutations_obs.drop(columns = 'id')\n",
        "                  interpretable_x = tussen.filter(regex='^\\D')\n",
        "                  x_lime = tussen[tussen.columns.drop(list(tussen.filter(regex='bow_')))]\n",
        "                  x_lime = x_lime.drop(columns = 'text')\n",
        "                  interpretable_x = interpretable_x.drop(columns = 'text')\n",
        "                  x_lime = x_lime.drop(columns = [str(el) for el in range(200)])\n",
        "                  true_obs = true_obs[x_lime.columns]\n",
        "\n",
        "                  x_lime_text = x_lime.filter(regex='\\.')\n",
        "                  x_lime_meta = x_lime[x_lime.columns.drop(list(x_lime.filter(regex='\\.')))]\n",
        "                  x_lime_meta= np.asarray(x_lime_meta).astype(np.float32)\n",
        "                  x_lime_text= np.asarray(x_lime_text).astype(np.float32)\n",
        "                  y_lime = model.predict([x_lime_meta, x_lime_text], verbose = 0)\n",
        "\n",
        "                  kernel_values = pairwise_kernels(true_obs.values.reshape(1, -1), x_lime, metric='linear')[0]\n",
        "                  if min(kernel_values)<0:\n",
        "                      kernel_values = kernel_values-(min(kernel_values)-1)\n",
        "                  used_features = feat_selection(interpretable_x, y_lime, kernel_values, 20)\n",
        "                  uitkomst = explain_instance_with_data(interpretable_x, y_lime, kernel_values, used_features)\n",
        "                  uitkomsten.append(uitkomst)\n",
        "        else:\n",
        "            models = [el for el in models if 'Hybrid' not in el]\n",
        "            models = [el for el in models if gebruikte_dataset in el]\n",
        "            models = [el for el in models if model_type in el]\n",
        "            print(model_type)\n",
        "            print(stap)\n",
        "\n",
        "            if stap==0:\n",
        "              model_str = [el for el in models if str(stap+1) in el]\n",
        "              fold = [el for el in files if str(stap+1) in el]\n",
        "              model_str = [el for el in model_str if '10' not in el][0]\n",
        "              fold = [el for el in fold if '10' not in el][0]\n",
        "            else:  \n",
        "              model_str = [el for el in models if str(stap+1) in el][0]\n",
        "              fold = [el for el in files if str(stap+1) in el][0]     \n",
        "            train = pd.read_csv(fold)\n",
        "            model = keras.models.load_model(model_str)\n",
        "\n",
        "            for i in range(train.shape[0]): #### AANPASSEN AAN LENGTE FOLD!\n",
        "                true_obs = train.iloc[i,:]\n",
        "                key = true_obs['Unnamed: 0']\n",
        "                permutations_obs = save_dict[key]\n",
        "                tussen = permutations_obs.drop(columns = 'id')\n",
        "                interpretable_x = tussen.filter(regex='^\\D')\n",
        "                x_lime = tussen[tussen.columns.drop(list(tussen.filter(regex='bow_')))]\n",
        "                x_lime = x_lime.drop(columns = 'text')\n",
        "                interpretable_x = interpretable_x.drop(columns = 'text')\n",
        "                x_lime = x_lime.drop(columns = [str(el) for el in range(200)])\n",
        "                true_obs = true_obs[x_lime.columns]\n",
        "                \n",
        "                x_lime_text = x_lime.filter(regex='\\.')\n",
        "                y_lime = model.predict(x_lime_text, verbose = 0)\n",
        "\n",
        "                kernel_values = pairwise_kernels(true_obs.values.reshape(1, -1), x_lime, metric='linear')[0]\n",
        "                if min(kernel_values)<0:\n",
        "                    kernel_values = kernel_values-(min(kernel_values)-1)\n",
        "                used_features = feat_selection(interpretable_x, y_lime, kernel_values, 20)\n",
        "                uitkomst = explain_instance_with_data(interpretable_x, y_lime, kernel_values, used_features)\n",
        "                uitkomsten.append(uitkomst)\n",
        "        fidelity = np.mean([el[1] for el in uitkomsten])\n",
        "        var_importances = [dict(el[0]) for el in uitkomsten]\n",
        "        res = []\n",
        "        for el in var_importances:\n",
        "            res.append({key: abs(val) for key, val in el.items()})\n",
        "        result = dict(functools.reduce(operator.add, map(collections.Counter, res)))\n",
        "        final_stability_metrics.append([fold, model_str, result, fidelity])"
      ]
    },
    {
      "cell_type": "code",
      "execution_count": null,
      "metadata": {
        "id": "61CqlXB6DdJH"
      },
      "outputs": [],
      "source": [
        "hybrids = [el for el in final_stability_metrics if 'Hybrid' in el[1]]\n",
        "\n",
        "hybrid_cnn_metrics = [el for el in hybrids if 'CNN' in el[1]] \n",
        "hyrbid_lstm_metrics = [el for el in hybrids if 'LSTM' in el[1]] \n",
        "hybrid_gru_metrics = [el for el in hybrids if 'GRU' in el[1]] "
      ]
    },
    {
      "cell_type": "code",
      "execution_count": null,
      "metadata": {
        "id": "equ1JJXqDdJI"
      },
      "outputs": [],
      "source": [
        "def jaccard_spearman(top_N, used_set):\n",
        "    top = [list(metric[2].keys())[0:top_N] for metric in used_set]\n",
        "    jaccard = []\n",
        "    spearman = []\n",
        "    for lst in top:\n",
        "        for other_lst in top:\n",
        "            st = set(lst)\n",
        "            other_st = set(other_lst)\n",
        "            jaccard.append(len(st.intersection(other_st))/len(st.union(other_st)))\n",
        "            new_lst = lst + list(other_st.difference(st))\n",
        "            new_other = other_lst + list(st.difference(other_st))\n",
        "            zipbObj = zip(new_lst, range(len(new_lst)))\n",
        "            dict1 = dict(zipbObj)\n",
        "            zipbObj = zip(new_other, range(len(new_other)))\n",
        "            dict2 = dict(zipbObj)\n",
        "            res = {key: abs(dict2[key] - dict1.get(key, 0))  for key in dict2.keys()}\n",
        "            rank_differences = list(res.values())\n",
        "            summed_squared_differences = np.sum([diff ** 2 for diff in rank_differences])\n",
        "            spearman.append(1-((6*summed_squared_differences)/((len(rank_differences)**3)-len(rank_differences))))\n",
        "    result_one = np.mean(jaccard)\n",
        "    result_two = np.mean(spearman)\n",
        "    return(result_one, result_two)\n",
        "\n",
        "def jaccard(top_N, used_set):\n",
        "    top = [list(metric[2].keys())[0:top_N] for metric in used_set]\n",
        "    jaccard = []\n",
        "    for lst in top:\n",
        "        for other_lst in top:\n",
        "            st = set(lst)\n",
        "            other_st = set(other_lst)\n",
        "            jaccard.append(len(st.intersection(other_st))/len(st.union(other_st)))\n",
        "    result_one = np.mean(jaccard)\n",
        "    return(result_one)\n",
        "\n",
        "def return_scores(used_set):\n",
        "    avg_fidelity = np.mean([metric[3] for metric in used_set])\n",
        "    jaccard20 = jaccard(20, used_set)\n",
        "    jaccard10 = jaccard(10, used_set)\n",
        "    jaccard5 = jaccard(5, used_set)\n",
        "    return(avg_fidelity, jaccard20, jaccard10, jaccard5)\n",
        "\n",
        "hybrid_cnn_scores = return_scores(hybrid_cnn_metrics)\n",
        "hyrbid_lstm_scores = return_scores(hyrbid_lstm_metrics)\n",
        "hybrid_gru_scores = return_scores(hybrid_gru_metrics)"
      ]
    },
    {
      "cell_type": "code",
      "execution_count": null,
      "metadata": {
        "id": "mE5Kc6c5DdJK"
      },
      "outputs": [],
      "source": [
        "final_scores = pd.DataFrame([hybrid_cnn_scores ,hyrbid_lstm_scores, hybrid_gru_scores])\n",
        "final_scores.columns = ['avg_fidelity', 'jaccard20', 'jaccard10', 'jaccard5']\n",
        "final_scores.index = [s +'_'+gebruikte_dataset for s in ['HybridCNN', 'HybridLSTM', 'HybridGRU']]"
      ]
    },
    {
      "cell_type": "code",
      "execution_count": null,
      "metadata": {
        "colab": {
          "base_uri": "https://localhost:8080/",
          "height": 143
        },
        "id": "UcuTVznaDdJK",
        "outputId": "93e25e4a-2795-4d06-aa8c-bfd20bb08f8c"
      },
      "outputs": [
        {
          "output_type": "execute_result",
          "data": {
            "text/plain": [
              "                  avg_fidelity  jaccard20  jaccard10  jaccard5\n",
              "HybridCNN_covid       0.056503   0.266540   0.179267  0.165794\n",
              "HybridLSTM_covid      0.049232   0.323502   0.202160  0.169444\n",
              "HybridGRU_covid       0.044755   0.319730   0.207053  0.180238"
            ],
            "text/html": [
              "\n",
              "  <div id=\"df-1bf5951b-a034-4964-b9a5-5ae02e94e449\">\n",
              "    <div class=\"colab-df-container\">\n",
              "      <div>\n",
              "<style scoped>\n",
              "    .dataframe tbody tr th:only-of-type {\n",
              "        vertical-align: middle;\n",
              "    }\n",
              "\n",
              "    .dataframe tbody tr th {\n",
              "        vertical-align: top;\n",
              "    }\n",
              "\n",
              "    .dataframe thead th {\n",
              "        text-align: right;\n",
              "    }\n",
              "</style>\n",
              "<table border=\"1\" class=\"dataframe\">\n",
              "  <thead>\n",
              "    <tr style=\"text-align: right;\">\n",
              "      <th></th>\n",
              "      <th>avg_fidelity</th>\n",
              "      <th>jaccard20</th>\n",
              "      <th>jaccard10</th>\n",
              "      <th>jaccard5</th>\n",
              "    </tr>\n",
              "  </thead>\n",
              "  <tbody>\n",
              "    <tr>\n",
              "      <th>HybridCNN_covid</th>\n",
              "      <td>0.056503</td>\n",
              "      <td>0.266540</td>\n",
              "      <td>0.179267</td>\n",
              "      <td>0.165794</td>\n",
              "    </tr>\n",
              "    <tr>\n",
              "      <th>HybridLSTM_covid</th>\n",
              "      <td>0.049232</td>\n",
              "      <td>0.323502</td>\n",
              "      <td>0.202160</td>\n",
              "      <td>0.169444</td>\n",
              "    </tr>\n",
              "    <tr>\n",
              "      <th>HybridGRU_covid</th>\n",
              "      <td>0.044755</td>\n",
              "      <td>0.319730</td>\n",
              "      <td>0.207053</td>\n",
              "      <td>0.180238</td>\n",
              "    </tr>\n",
              "  </tbody>\n",
              "</table>\n",
              "</div>\n",
              "      <button class=\"colab-df-convert\" onclick=\"convertToInteractive('df-1bf5951b-a034-4964-b9a5-5ae02e94e449')\"\n",
              "              title=\"Convert this dataframe to an interactive table.\"\n",
              "              style=\"display:none;\">\n",
              "        \n",
              "  <svg xmlns=\"http://www.w3.org/2000/svg\" height=\"24px\"viewBox=\"0 0 24 24\"\n",
              "       width=\"24px\">\n",
              "    <path d=\"M0 0h24v24H0V0z\" fill=\"none\"/>\n",
              "    <path d=\"M18.56 5.44l.94 2.06.94-2.06 2.06-.94-2.06-.94-.94-2.06-.94 2.06-2.06.94zm-11 1L8.5 8.5l.94-2.06 2.06-.94-2.06-.94L8.5 2.5l-.94 2.06-2.06.94zm10 10l.94 2.06.94-2.06 2.06-.94-2.06-.94-.94-2.06-.94 2.06-2.06.94z\"/><path d=\"M17.41 7.96l-1.37-1.37c-.4-.4-.92-.59-1.43-.59-.52 0-1.04.2-1.43.59L10.3 9.45l-7.72 7.72c-.78.78-.78 2.05 0 2.83L4 21.41c.39.39.9.59 1.41.59.51 0 1.02-.2 1.41-.59l7.78-7.78 2.81-2.81c.8-.78.8-2.07 0-2.86zM5.41 20L4 18.59l7.72-7.72 1.47 1.35L5.41 20z\"/>\n",
              "  </svg>\n",
              "      </button>\n",
              "      \n",
              "  <style>\n",
              "    .colab-df-container {\n",
              "      display:flex;\n",
              "      flex-wrap:wrap;\n",
              "      gap: 12px;\n",
              "    }\n",
              "\n",
              "    .colab-df-convert {\n",
              "      background-color: #E8F0FE;\n",
              "      border: none;\n",
              "      border-radius: 50%;\n",
              "      cursor: pointer;\n",
              "      display: none;\n",
              "      fill: #1967D2;\n",
              "      height: 32px;\n",
              "      padding: 0 0 0 0;\n",
              "      width: 32px;\n",
              "    }\n",
              "\n",
              "    .colab-df-convert:hover {\n",
              "      background-color: #E2EBFA;\n",
              "      box-shadow: 0px 1px 2px rgba(60, 64, 67, 0.3), 0px 1px 3px 1px rgba(60, 64, 67, 0.15);\n",
              "      fill: #174EA6;\n",
              "    }\n",
              "\n",
              "    [theme=dark] .colab-df-convert {\n",
              "      background-color: #3B4455;\n",
              "      fill: #D2E3FC;\n",
              "    }\n",
              "\n",
              "    [theme=dark] .colab-df-convert:hover {\n",
              "      background-color: #434B5C;\n",
              "      box-shadow: 0px 1px 3px 1px rgba(0, 0, 0, 0.15);\n",
              "      filter: drop-shadow(0px 1px 2px rgba(0, 0, 0, 0.3));\n",
              "      fill: #FFFFFF;\n",
              "    }\n",
              "  </style>\n",
              "\n",
              "      <script>\n",
              "        const buttonEl =\n",
              "          document.querySelector('#df-1bf5951b-a034-4964-b9a5-5ae02e94e449 button.colab-df-convert');\n",
              "        buttonEl.style.display =\n",
              "          google.colab.kernel.accessAllowed ? 'block' : 'none';\n",
              "\n",
              "        async function convertToInteractive(key) {\n",
              "          const element = document.querySelector('#df-1bf5951b-a034-4964-b9a5-5ae02e94e449');\n",
              "          const dataTable =\n",
              "            await google.colab.kernel.invokeFunction('convertToInteractive',\n",
              "                                                     [key], {});\n",
              "          if (!dataTable) return;\n",
              "\n",
              "          const docLinkHtml = 'Like what you see? Visit the ' +\n",
              "            '<a target=\"_blank\" href=https://colab.research.google.com/notebooks/data_table.ipynb>data table notebook</a>'\n",
              "            + ' to learn more about interactive tables.';\n",
              "          element.innerHTML = '';\n",
              "          dataTable['output_type'] = 'display_data';\n",
              "          await google.colab.output.renderOutput(dataTable, element);\n",
              "          const docLink = document.createElement('div');\n",
              "          docLink.innerHTML = docLinkHtml;\n",
              "          element.appendChild(docLink);\n",
              "        }\n",
              "      </script>\n",
              "    </div>\n",
              "  </div>\n",
              "  "
            ]
          },
          "metadata": {},
          "execution_count": 14
        }
      ],
      "source": [
        "final_scores"
      ]
    },
    {
      "cell_type": "code",
      "execution_count": null,
      "metadata": {
        "id": "f2oQygSYDdJM"
      },
      "outputs": [],
      "source": [
        "save_name = 'FinalResults_DL'+gebruikte_dataset+'.csv'\n",
        "final_scores.to_csv(save_name)"
      ]
    }
  ],
  "metadata": {
    "colab": {
      "machine_shape": "hm",
      "provenance": []
    },
    "kernelspec": {
      "display_name": "Python 3",
      "language": "python",
      "name": "python3"
    },
    "language_info": {
      "codemirror_mode": {
        "name": "ipython",
        "version": 3
      },
      "file_extension": ".py",
      "mimetype": "text/x-python",
      "name": "python",
      "nbconvert_exporter": "python",
      "pygments_lexer": "ipython3",
      "version": "3.7.0"
    }
  },
  "nbformat": 4,
  "nbformat_minor": 0
}